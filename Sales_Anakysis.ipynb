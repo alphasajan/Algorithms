{
  "nbformat": 4,
  "nbformat_minor": 0,
  "metadata": {
    "colab": {
      "name": "Sales Anakysis.ipynb",
      "provenance": [],
      "collapsed_sections": [],
      "authorship_tag": "ABX9TyPBRrRJJH2bpFHz05k1XEFT",
      "include_colab_link": true
    },
    "kernelspec": {
      "name": "python3",
      "display_name": "Python 3"
    },
    "language_info": {
      "name": "python"
    }
  },
  "cells": [
    {
      "cell_type": "markdown",
      "metadata": {
        "id": "view-in-github",
        "colab_type": "text"
      },
      "source": [
        "<a href=\"https://colab.research.google.com/github/alphasajan/Algorithms/blob/master/Sales_Anakysis.ipynb\" target=\"_parent\"><img src=\"https://colab.research.google.com/assets/colab-badge.svg\" alt=\"Open In Colab\"/></a>"
      ]
    },
    {
      "cell_type": "markdown",
      "source": [
        "PANDAS SALES ANALYSIS\n"
      ],
      "metadata": {
        "id": "uxkHQIA2ab4r"
      }
    },
    {
      "cell_type": "markdown",
      "source": [
        "#OBJECT"
      ],
      "metadata": {
        "id": "aBoyqAVEaoau"
      }
    },
    {
      "cell_type": "markdown",
      "source": [
        "#Answer the Question\n",
        "\n",
        ". What is the overall sales trend..?\n",
        "\n",
        "\n",
        ". Which are the Top 10 products by sales..?\n",
        "\n",
        "\n",
        ". Which are the most selling products..?\n",
        "\n",
        ". Which is the most preferred ship mode..?\n",
        "\n",
        ". Which are the most profitable category and sub-category..?\n",
        "\n",
        "\n",
        "\n"
      ],
      "metadata": {
        "id": "JToSMW-EbbSD"
      }
    },
    {
      "cell_type": "markdown",
      "source": [
        ""
      ],
      "metadata": {
        "id": "sTBcUAMdafXG"
      }
    },
    {
      "cell_type": "code",
      "source": [
        "import pandas as pd"
      ],
      "metadata": {
        "id": "04qp0DUuc0h-"
      },
      "execution_count": null,
      "outputs": []
    },
    {
      "cell_type": "code",
      "source": [
        "df=pd.read_"
      ],
      "metadata": {
        "id": "EyvLZCU1c5hY"
      },
      "execution_count": null,
      "outputs": []
    },
    {
      "cell_type": "code",
      "source": [
        "from google.colab import drive\n",
        "drive.mount('/content/drive')"
      ],
      "metadata": {
        "id": "LKQbqHzmdWRu"
      },
      "execution_count": null,
      "outputs": []
    }
  ]
}